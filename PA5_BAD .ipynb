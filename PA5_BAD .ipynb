{
 "cells": [
  {
   "cell_type": "markdown",
   "id": "b48879a8",
   "metadata": {},
   "source": [
    "#### Brandy Denning\n",
    "CS 150 \n",
    "Assignment 5"
   ]
  },
  {
   "cell_type": "markdown",
   "id": "a9484c44",
   "metadata": {},
   "source": [
    "### Task 1 Language Translator"
   ]
  },
  {
   "cell_type": "code",
   "execution_count": 2,
   "id": "6dbe0267",
   "metadata": {},
   "outputs": [
    {
     "name": "stdout",
     "output_type": "stream",
     "text": [
      "Enter a word to translate from Enlgish to Spanish (enter 0 to stop): Green.\n",
      "The Spanish word for GREEN is VERDE.\n",
      "Enter a word to translate from Enlgish to Spanish (enter 0 to stop): White.\n",
      "The Spanish word for WHITE is BLANCO.\n",
      "Enter a word to translate from Enlgish to Spanish (enter 0 to stop): Black.\n",
      "The Spanish word for BLACK is NEGRO.\n",
      "Enter a word to translate from Enlgish to Spanish (enter 0 to stop): Orange.\n",
      "The Spanish word for ORANGE is NARANJA.\n",
      "Enter a word to translate from Enlgish to Spanish (enter 0 to stop): Blue.\n",
      "The Spanish word for BLUE is AZUL.\n",
      "Enter a word to translate from Enlgish to Spanish (enter 0 to stop): Yellow.\n",
      "The Spanish word for YELLOW is AMARILLO.\n",
      "Enter a word to translate from Enlgish to Spanish (enter 0 to stop): Purple.\n",
      "The Spanish word for PURPLE is MORADO.\n",
      "Enter a word to translate from Enlgish to Spanish (enter 0 to stop): Pink.\n",
      "The Spanish word for PINK is ROSA.\n",
      "Enter a word to translate from Enlgish to Spanish (enter 0 to stop): Brown.\n",
      "The Spanish word for BROWN is CAFE.\n",
      "Enter a word to translate from Enlgish to Spanish (enter 0 to stop): Red.\n",
      "The Spanish word for RED is ROJO.\n"
     ]
    }
   ],
   "source": [
    "translator={'green':'verde', 'white':'blanco', 'black':'negro', 'orange':'naranja', 'blue':'azul', 'yellow':'amarillo', 'purple':'morado', 'pink':'rosa', 'brown':'cafe', 'red':'rojo'}\n",
    "for english,spanish in translator.items():\n",
    "    print(f\"Enter a word to translate from Enlgish to Spanish (enter 0 to stop): {english.title()}.\")\n",
    "    print(f\"The Spanish word for {english.upper()} is {spanish.upper()}.\")"
   ]
  },
  {
   "cell_type": "markdown",
   "id": "1cd6415d",
   "metadata": {},
   "source": [
    "### Task 2 Temperature Converter"
   ]
  },
  {
   "cell_type": "code",
   "execution_count": 3,
   "id": "aa0c0f15",
   "metadata": {},
   "outputs": [],
   "source": [
    "temp_dict={'Day1':88,'Day2':91,'Day3':92,'Day4':93,'Day5':90,'Day6':84,'Day7':77,'Day8':84, 'Day9':81,'Day10':84,\n",
    "          'Day11':87,'Day12':80, 'Day13':81,'Day14':82, 'Day15':81,'Day16':83, 'Day17':79,'Day18':80, 'Day19':81,'Day20':85,\n",
    "          'Day21':86,'Day22':89, 'Day23':83,'Day24':84, 'Day25':87,'Day26':89, 'Day27':83,'Day28':82, 'Day29':85,'Day30':86}\n"
   ]
  },
  {
   "cell_type": "code",
   "execution_count": 4,
   "id": "52cc0ea3",
   "metadata": {},
   "outputs": [],
   "source": [
    "for day,temp in temp_dict.items():\n",
    "    temp_dict2=((temp-32)*5/9)\n",
    "    temp_dict[day]=temp_dict2"
   ]
  },
  {
   "cell_type": "code",
   "execution_count": 5,
   "id": "d8a32257",
   "metadata": {},
   "outputs": [
    {
     "name": "stdout",
     "output_type": "stream",
     "text": [
      "{'Day1': 31.11111111111111, 'Day2': 32.77777777777778, 'Day3': 33.333333333333336, 'Day4': 33.888888888888886, 'Day5': 32.22222222222222, 'Day6': 28.88888888888889, 'Day7': 25.0, 'Day8': 28.88888888888889, 'Day9': 27.22222222222222, 'Day10': 28.88888888888889, 'Day11': 30.555555555555557, 'Day12': 26.666666666666668, 'Day13': 27.22222222222222, 'Day14': 27.77777777777778, 'Day15': 27.22222222222222, 'Day16': 28.333333333333332, 'Day17': 26.11111111111111, 'Day18': 26.666666666666668, 'Day19': 27.22222222222222, 'Day20': 29.444444444444443, 'Day21': 30.0, 'Day22': 31.666666666666668, 'Day23': 28.333333333333332, 'Day24': 28.88888888888889, 'Day25': 30.555555555555557, 'Day26': 31.666666666666668, 'Day27': 28.333333333333332, 'Day28': 27.77777777777778, 'Day29': 29.444444444444443, 'Day30': 30.0}\n"
     ]
    }
   ],
   "source": [
    "print(temp_dict)"
   ]
  },
  {
   "cell_type": "markdown",
   "id": "c8b2478c",
   "metadata": {},
   "source": [
    "### Task 3 Python Script Keys and Numbers between 1 and 15"
   ]
  },
  {
   "cell_type": "code",
   "execution_count": 6,
   "id": "fd45dea4",
   "metadata": {},
   "outputs": [],
   "source": [
    "number={}"
   ]
  },
  {
   "cell_type": "code",
   "execution_count": 8,
   "id": "5085064b",
   "metadata": {},
   "outputs": [
    {
     "name": "stdout",
     "output_type": "stream",
     "text": [
      "{1: 1, 2: 4, 3: 9, 4: 16, 5: 25, 6: 36, 7: 49, 8: 64, 9: 81, 10: 100, 11: 121, 12: 144, 13: 169, 14: 196, 15: 225}\n"
     ]
    }
   ],
   "source": [
    "for x in range (1, 15):\n",
    "    number.update({x:x**2})\n",
    "print(number)"
   ]
  },
  {
   "cell_type": "markdown",
   "id": "27471edd",
   "metadata": {},
   "source": [
    "### Task 4 User Profile Dictionary"
   ]
  },
  {
   "cell_type": "code",
   "execution_count": 9,
   "id": "06563e84",
   "metadata": {},
   "outputs": [],
   "source": [
    "user_profiles={}"
   ]
  },
  {
   "cell_type": "code",
   "execution_count": 10,
   "id": "0c86a0f0",
   "metadata": {},
   "outputs": [
    {
     "name": "stdout",
     "output_type": "stream",
     "text": [
      "Enter your name: Brandy\n",
      "Enter your age: 39\n",
      "Enter your email : bdenning1033@yahoo.com\n",
      "Enter your city: Louisville\n",
      "Add another entry?(yes/no): yes\n",
      "Enter your name: John Doe\n",
      "Enter your age: 55\n",
      "Enter your email : johndoe@gmail.com\n",
      "Enter your city: Los Angeles\n",
      "Add another entry?(yes/no): yes\n",
      "Enter your name: Bill Nye the Science Guy\n",
      "Enter your age: 47\n",
      "Enter your email : billnye@outlook.com\n",
      "Enter your city: New York\n",
      "Add another entry?(yes/no): no\n",
      "Nice add to my dictionary.\n",
      "{'Brandy': 'Age: 39\\nEmail: bdenning1033@yahoo.com\\nCity: Louisville', 'John Doe': 'Age: 55\\nEmail: johndoe@gmail.com\\nCity: Los Angeles', 'Bill Nye the Science Guy': 'Age: 47\\nEmail: billnye@outlook.com\\nCity: New York'}\n"
     ]
    }
   ],
   "source": [
    "active=True\n",
    "while active:\n",
    "    prompt_keys=input('Enter your name: ')\n",
    "    prompt_age=input('Enter your age: ')\n",
    "    prompt_email=input('Enter your email : ')\n",
    "    prompt_city=input('Enter your city: ')\n",
    "    prompt_values=(f'Age: {prompt_age}\\n')+(f'Email: {prompt_email}\\n')+(f'City: {prompt_city}')\n",
    "    user_profiles.update({prompt_keys:prompt_values})\n",
    "    another=input('Add another entry?(yes/no): ')\n",
    "    if another=='no':\n",
    "        print('Nice add to my dictionary.')\n",
    "        break\n",
    "print(user_profiles)"
   ]
  },
  {
   "cell_type": "code",
   "execution_count": 11,
   "id": "5c12e093",
   "metadata": {},
   "outputs": [
    {
     "name": "stdout",
     "output_type": "stream",
     "text": [
      "Search name: Blake Shelton\n",
      "User not found\n"
     ]
    }
   ],
   "source": [
    "search_name=input('Search name: ')\n",
    "if search_name in user_profiles.keys():\n",
    "    print(user_profiles[search_name])\n",
    "else:\n",
    "    print('User not found')"
   ]
  },
  {
   "cell_type": "code",
   "execution_count": 12,
   "id": "c241e747",
   "metadata": {},
   "outputs": [
    {
     "name": "stdout",
     "output_type": "stream",
     "text": [
      "Search name: Brandy\n",
      "Age: 39\n",
      "Email: bdenning1033@yahoo.com\n",
      "City: Louisville\n"
     ]
    }
   ],
   "source": [
    "search_name=input('Search name: ')\n",
    "if search_name in user_profiles.keys():\n",
    "    print(user_profiles[search_name])\n",
    "else:\n",
    "    print('User not found')"
   ]
  }
 ],
 "metadata": {
  "kernelspec": {
   "display_name": "Python 3 (ipykernel)",
   "language": "python",
   "name": "python3"
  },
  "language_info": {
   "codemirror_mode": {
    "name": "ipython",
    "version": 3
   },
   "file_extension": ".py",
   "mimetype": "text/x-python",
   "name": "python",
   "nbconvert_exporter": "python",
   "pygments_lexer": "ipython3",
   "version": "3.11.5"
  }
 },
 "nbformat": 4,
 "nbformat_minor": 5
}
